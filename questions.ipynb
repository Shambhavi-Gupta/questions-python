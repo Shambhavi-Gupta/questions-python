{
  "nbformat": 4,
  "nbformat_minor": 0,
  "metadata": {
    "colab": {
      "name": "questions.ipynb",
      "provenance": [],
      "collapsed_sections": [],
      "authorship_tag": "ABX9TyOZyhZgWwd7yjcubT9/HSIH",
      "include_colab_link": true
    },
    "kernelspec": {
      "name": "python3",
      "display_name": "Python 3"
    }
  },
  "cells": [
    {
      "cell_type": "markdown",
      "metadata": {
        "id": "view-in-github",
        "colab_type": "text"
      },
      "source": [
        "<a href=\"https://colab.research.google.com/github/Shambhavi-Gupta/questions-python/blob/master/questions.ipynb\" target=\"_parent\"><img src=\"https://colab.research.google.com/assets/colab-badge.svg\" alt=\"Open In Colab\"/></a>"
      ]
    },
    {
      "cell_type": "code",
      "metadata": {
        "id": "aBWpWnAq_lli",
        "colab_type": "code",
        "outputId": "a2ac539c-ce2f-4327-bfd6-c5d91f91ed20",
        "colab": {
          "base_uri": "https://localhost:8080/",
          "height": 85
        }
      },
      "source": [
        "# to find sum,len,max,min of a list\n",
        "t=(1,2,3,4,5)\n",
        "print(len(t))\n",
        "print(sum(t))\n",
        "print(max(t))\n",
        "print(min(t))"
      ],
      "execution_count": 0,
      "outputs": [
        {
          "output_type": "stream",
          "text": [
            "5\n",
            "15\n",
            "5\n",
            "1\n"
          ],
          "name": "stdout"
        }
      ]
    },
    {
      "cell_type": "code",
      "metadata": {
        "id": "FpHwqYqg_tv-",
        "colab_type": "code",
        "outputId": "050ed847-e4e2-4097-afb5-a2adcfc8a09a",
        "colab": {
          "base_uri": "https://localhost:8080/",
          "height": 51
        }
      },
      "source": [
        "# to find the cost of a quantity\n",
        "q=int(input('enter quantity'))\n",
        "if q*100>1000:\n",
        "    cost=((q*100)-(0.1*q*100))\n",
        "    print(\"cost\",cost)\n",
        "else:\n",
        "    print('cost is',q*100)"
      ],
      "execution_count": 0,
      "outputs": [
        {
          "output_type": "stream",
          "text": [
            "enter quantity1200\n",
            "cost 108000.0\n"
          ],
          "name": "stdout"
        }
      ]
    },
    {
      "cell_type": "code",
      "metadata": {
        "id": "kUzfkEpr_5-y",
        "colab_type": "code",
        "outputId": "6534b046-61c6-4323-8609-d25c2dedf651",
        "colab": {
          "base_uri": "https://localhost:8080/",
          "height": 170
        }
      },
      "source": [
        "# to print a star pattern\n",
        "n=int(input('enter number of rows'))\n",
        "for i in range(0,n):\n",
        "    for j in range(0,i+1):\n",
        "        print('*',end=' ')\n",
        "    print(\"\\n\")"
      ],
      "execution_count": 0,
      "outputs": [
        {
          "output_type": "stream",
          "text": [
            "enter number of rows4\n",
            "* \n",
            "\n",
            "* * \n",
            "\n",
            "* * * \n",
            "\n",
            "* * * * \n",
            "\n"
          ],
          "name": "stdout"
        }
      ]
    },
    {
      "cell_type": "code",
      "metadata": {
        "id": "C5N2PQc1AGKe",
        "colab_type": "code",
        "outputId": "d11e43d2-daea-4890-cbe7-ef9bca324ff4",
        "colab": {
          "base_uri": "https://localhost:8080/",
          "height": 102
        }
      },
      "source": [
        "# to double the elements \n",
        "lst_1=[1,2,3,4,5]\n",
        "for index in range (len(lst_1)):\n",
        "    lst_2=lst_1[index]*2\n",
        "    print(lst_2)    "
      ],
      "execution_count": 0,
      "outputs": [
        {
          "output_type": "stream",
          "text": [
            "2\n",
            "4\n",
            "6\n",
            "8\n",
            "10\n"
          ],
          "name": "stdout"
        }
      ]
    },
    {
      "cell_type": "code",
      "metadata": {
        "id": "Z5j_D175APbM",
        "colab_type": "code",
        "outputId": "76258b5e-cc5f-49c9-b664-b5e417408695",
        "colab": {
          "base_uri": "https://localhost:8080/",
          "height": 85
        }
      },
      "source": [
        "# find the oldest person\n",
        "str1=int(input(\"enter age of first person\"))\n",
        "str2=int(input(\"enter age of second person\"))\n",
        "str3=int(input(\"enter age of third person\"))\n",
        "if str1>str2 and str1>str3:\n",
        "    print(\"oldest is:\",str1)\n",
        "elif str2>str3 and str2>str1:\n",
        "    print(\"oldest is:\",str2)\n",
        "else:\n",
        "    print(\"oldest is :\",str3)\n",
        "    \n",
        "\n"
      ],
      "execution_count": 0,
      "outputs": [
        {
          "output_type": "stream",
          "text": [
            "enter age of first person43\n",
            "enter age of second person56\n",
            "enter age of third person89\n",
            "oldest is : 89\n"
          ],
          "name": "stdout"
        }
      ]
    },
    {
      "cell_type": "code",
      "metadata": {
        "id": "byZZ-eGrBEi4",
        "colab_type": "code",
        "outputId": "3c0e2638-cf50-475b-9481-fc1f4d109835",
        "colab": {
          "base_uri": "https://localhost:8080/",
          "height": 34
        }
      },
      "source": [
        "#find the youngest person\n",
        "if str1<str2 and str1<str3:\n",
        "    print(\"youngest is :\",str1)\n",
        "elif str2<str3 and str2<str1:\n",
        "    print(\"youngest is :\",str2)\n",
        "else :\n",
        "    print(\"youngest is :\",str3)"
      ],
      "execution_count": 0,
      "outputs": [
        {
          "output_type": "stream",
          "text": [
            "youngest is : 43\n"
          ],
          "name": "stdout"
        }
      ]
    },
    {
      "cell_type": "code",
      "metadata": {
        "id": "Hga60zOVBPKu",
        "colab_type": "code",
        "colab": {}
      },
      "source": [
        ""
      ],
      "execution_count": 0,
      "outputs": []
    }
  ]
}